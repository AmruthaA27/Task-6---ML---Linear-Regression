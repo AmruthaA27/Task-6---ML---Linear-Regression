{
  "cells": [
    {
      "cell_type": "markdown",
      "metadata": {
        "id": "view-in-github",
        "colab_type": "text"
      },
      "source": [
        "<a href=\"https://colab.research.google.com/github/AmruthaA27/Task-6---ML---Linear-Regression/blob/main/ML_Assignment_4.ipynb\" target=\"_parent\"><img src=\"https://colab.research.google.com/assets/colab-badge.svg\" alt=\"Open In Colab\"/></a>"
      ]
    },
    {
      "cell_type": "code",
      "execution_count": 16,
      "metadata": {
        "id": "HUYgkdY0TVrk"
      },
      "outputs": [],
      "source": [
        "import pandas as pd\n",
        "import matplotlib.pyplot as plt\n",
        "import numpy as np\n",
        "from sklearn import linear_model"
      ]
    },
    {
      "cell_type": "code",
      "source": [
        "# Import phi from train data set\n",
        "phi = np.loadtxt('train.csv', dtype='float', delimiter=',', skiprows=1, usecols=tuple(range(1, 14)))\n",
        "#print(phi)\n",
        "\n",
        "# Import y from train data set\n",
        "y = np.loadtxt('train.csv', dtype='float', delimiter=',', skiprows=1, usecols=14, ndmin=2)\n",
        "\n",
        "# Import phi_test from test data set\n",
        "phi_test = np.loadtxt('test.csv', dtype='float', delimiter=',', skiprows=1, usecols=tuple(range(1, 14)))"
      ],
      "metadata": {
        "id": "_U-5yOles24k"
      },
      "execution_count": 17,
      "outputs": []
    },
    {
      "cell_type": "code",
      "source": [
        "\n",
        "# Add a cloloumn of 1s to right of phi and phi_test\n",
        "phi_test = np.concatenate((phi_test, np.ones((105, 1))), axis=1)\n",
        "phi = np.concatenate((phi, np.ones((400, 1))), axis=1)\n",
        "\n",
        "# Min Max scaling for phi and phi_test (Feature Engineering)\n",
        "for i in range(0, 13):\n",
        "    col_max = max(phi[:, i])\n",
        "    col_min = min(phi[:, i])\n",
        "    phi[:, i] = (phi[:, i] - col_min) / (col_max - col_min)\n",
        "    phi_test[:, i] = (phi_test[:, i] - col_min) / (col_max - col_min)\n",
        "\n",
        "# Log scaling on y\n",
        "y = np.log(y)"
      ],
      "metadata": {
        "id": "ctZd5M4AtnWb"
      },
      "execution_count": 18,
      "outputs": []
    },
    {
      "cell_type": "code",
      "source": [
        "\n",
        "# Function to calculate change in error function\n",
        "def delta_w(p, phi, w):\n",
        "    if p == 2:\n",
        "        deltaw = (2 * (np.dot(np.dot(np.transpose(phi), phi), w) -\n",
        "                       np.dot(np.transpose(phi), y)) +\n",
        "                  lambd * p * np.power(np.absolute(w), (p - 1)))\n",
        "    if p < 2 and p > 1:\n",
        "        deltaw = (2 * (np.dot(np.dot(np.transpose(phi), phi), w) -\n",
        "                       np.dot(np.transpose(phi), y)) +\n",
        "                  lambd * p * np.power(np.absolute(w), (p - 1)) * np.sign(w))\n",
        "    #print(\"the error for\",p ,\"is\",deltaw)\n",
        "    return deltaw"
      ],
      "metadata": {
        "id": "xhxTzWWMtxkb"
      },
      "execution_count": 22,
      "outputs": []
    },
    {
      "cell_type": "code",
      "source": [
        "# Dictionary containing filenames as keys and p as values\n",
        "filenames = {'output.csv': 2.0,\n",
        "             'output_p1.csv': 1.85,\n",
        "             'output_p2.csv': 1.6,\n",
        "             'output_p3.csv': 1.3\n",
        "             }\n",
        "\n",
        "# For each item in this dictionary\n",
        "for (fname, p) in filenames.items():\n",
        "    # Set initial w to zeros\n",
        "    w = np.zeros((14, 1))\n",
        "\n",
        "    # Hyperparameter lambda value\n",
        "    lambd = 0.2\n",
        "\n",
        "    # Maximum step size\n",
        "    t = 0.00012\n",
        "\n",
        "    # Calculate new value of w\n",
        "    w_new = w - t * delta_w(p, phi, w)\n",
        "\n",
        "    i = 0\n",
        "    # Repeat steps until error between consecutive w is less than threshold\n",
        "    while(np.linalg.norm(w_new-w) > 10 ** -10):\n",
        "        w = w_new\n",
        "        w_new = w - t * delta_w(p, phi, w)\n",
        "        i = i + 1\n",
        "        \n",
        "\n",
        "    # Load values of id\n",
        "    id_test = np.loadtxt('test.csv', dtype='int', delimiter=',',\n",
        "                         skiprows=1, usecols=0, ndmin=2)\n"
      ],
      "metadata": {
        "id": "QyuAcB8Ct_4D"
      },
      "execution_count": 23,
      "outputs": []
    },
    {
      "cell_type": "code",
      "source": [
        "# Calculate y for test data\n",
        "print(w_new)\n",
        "y_test = np.exp(np.dot(phi_test, w_new))\n",
        "\n",
        "# Save the ids and y\n",
        "np.savetxt(fname, np.concatenate((id_test, y_test), axis=1),\n",
        "               delimiter=',', fmt=['%d', '%f'], header='ID,MEDV', comments='')"
      ],
      "metadata": {
        "colab": {
          "base_uri": "https://localhost:8080/"
        },
        "id": "OGH2q8Xhuki0",
        "outputId": "fb2ce029-e446-476b-c1f6-1bf0bf54fe3d"
      },
      "execution_count": 24,
      "outputs": [
        {
          "output_type": "stream",
          "name": "stdout",
          "text": [
            "[[-8.83872360e-01]\n",
            " [ 8.24607799e-02]\n",
            " [ 5.54404783e-02]\n",
            " [ 1.03070790e-01]\n",
            " [-3.59079699e-01]\n",
            " [ 5.82106481e-01]\n",
            " [ 1.92638154e-05]\n",
            " [-4.64283025e-01]\n",
            " [ 2.78549136e-01]\n",
            " [-3.08795601e-01]\n",
            " [-3.33018879e-01]\n",
            " [ 1.48793588e-01]\n",
            " [-8.91439584e-01]\n",
            " [ 3.36126829e+00]]\n"
          ]
        }
      ]
    },
    {
      "cell_type": "code",
      "source": [
        "op = np.loadtxt('output_p3.csv', dtype='float', delimiter=',', skiprows=1)\n",
        "op"
      ],
      "metadata": {
        "id": "aeyeIVtpur5z"
      },
      "execution_count": null,
      "outputs": []
    }
  ],
  "metadata": {
    "kernelspec": {
      "display_name": "Python 3",
      "language": "python",
      "name": "python3"
    },
    "language_info": {
      "codemirror_mode": {
        "name": "ipython",
        "version": 3
      },
      "file_extension": ".py",
      "mimetype": "text/x-python",
      "name": "python",
      "nbconvert_exporter": "python",
      "pygments_lexer": "ipython3",
      "version": "3.8.3"
    },
    "colab": {
      "provenance": [],
      "include_colab_link": true
    }
  },
  "nbformat": 4,
  "nbformat_minor": 0
}